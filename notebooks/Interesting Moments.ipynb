{
 "cells": [
  {
   "cell_type": "code",
   "execution_count": 5,
   "id": "adfa28ff",
   "metadata": {},
   "outputs": [],
   "source": [
    "import numpy as np"
   ]
  },
  {
   "cell_type": "code",
   "execution_count": 6,
   "id": "9492619d",
   "metadata": {},
   "outputs": [],
   "source": [
    "file_name = \"../data/demis_hassabis.vtt\"\n",
    "with open(file_name, \"r\") as f:\n",
    "    lines = f.readlines()"
   ]
  },
  {
   "cell_type": "code",
   "execution_count": 7,
   "id": "6c431806",
   "metadata": {},
   "outputs": [
    {
     "data": {
      "text/plain": [
       "['WEBVTT\\n',\n",
       " '\\n',\n",
       " '00:00.000 --> 00:03.480\\n',\n",
       " ' The following is a conversation with Demis Hassabis,\\n',\n",
       " '\\n']"
      ]
     },
     "execution_count": 7,
     "metadata": {},
     "output_type": "execute_result"
    }
   ],
   "source": [
    "lines[0:5]"
   ]
  },
  {
   "cell_type": "code",
   "execution_count": 8,
   "id": "2b54627f",
   "metadata": {},
   "outputs": [
    {
     "name": "stdout",
     "output_type": "stream",
     "text": [
      "3105\n"
     ]
    }
   ],
   "source": [
    "text = [item.strip() for idx, item in enumerate(lines) if idx%3 == 0]\n",
    "text = text[1:]\n",
    "print(len(text))"
   ]
  },
  {
   "cell_type": "code",
   "execution_count": 23,
   "id": "d3e45c0c",
   "metadata": {},
   "outputs": [
    {
     "data": {
      "text/plain": [
       "['00:00.000 --> 00:03.480',\n",
       " '00:03.480 --> 00:06.720',\n",
       " '00:06.720 --> 00:08.600',\n",
       " '00:08.600 --> 00:12.200',\n",
       " '00:12.200 --> 00:14.120']"
      ]
     },
     "execution_count": 23,
     "metadata": {},
     "output_type": "execute_result"
    }
   ],
   "source": [
    "timeline = [item.strip() for idx, item in enumerate(lines) if idx%3 == 2]\n",
    "timeline[0:5]"
   ]
  },
  {
   "cell_type": "code",
   "execution_count": 10,
   "id": "9719e581",
   "metadata": {},
   "outputs": [
    {
     "data": {
      "text/plain": [
       "3105"
      ]
     },
     "execution_count": 10,
     "metadata": {},
     "output_type": "execute_result"
    }
   ],
   "source": [
    "len(timeline)"
   ]
  },
  {
   "cell_type": "code",
   "execution_count": 11,
   "id": "bbad518f",
   "metadata": {},
   "outputs": [],
   "source": [
    "assert len(text)==len(timeline)"
   ]
  },
  {
   "cell_type": "code",
   "execution_count": 12,
   "id": "28ca5351",
   "metadata": {},
   "outputs": [],
   "source": [
    "text = \" \".join(text)"
   ]
  },
  {
   "cell_type": "code",
   "execution_count": 13,
   "id": "5af98df1",
   "metadata": {},
   "outputs": [
    {
     "data": {
      "text/plain": [
       "[\"And I still think something like the Turing test will, at the end of the day, be the thing that truly impresses other humans so that you can have a close friend who's an AI system.\",\n",
       " \"I just, I think there'll be a kind of humor in the AI systems of the future looking back to this conversation and thinking about the Turing test and also thinking about by that time, they would know which year they were finally able to sort of cross the threshold of human level intelligence and think how funny it is that we humans were still confused about this whole problem that has been long ago been solved.\",\n",
       " 'So whether it was graphics with people like John Carmack and Quake and those kinds of things or AI, I think actually all the action was going on in games.',\n",
       " \"And I think that building AI, one of the reasons I wanna build AI, and I've always wanted to is, I think by building an intelligent artifact like AI, and then comparing it to the human mind, that will help us unlock the uniqueness and the true secrets of the mind that we've always wondered about since the dawn of history, like consciousness, dreaming, creativity, emotions, what are all these things, right?\",\n",
       " \"And I think it's amazing that with our human minds, we're able to build things like computers and actually even, you know, think and investigate about these questions.\",\n",
       " \"So it's been an amazing time actually in the last, you know, two, three years to see that come through because as we talked about earlier, you know, games is what we started on building things like AlphaGo and AlphaZero, but really the ultimate goal was to, not just to crack games, it was just to build, use them to bootstrap general learning systems we could then apply to real world challenges.\",\n",
       " 'I think some of the big innovations were that kind of building in some hard coded constraints around physics and evolutionary biology to constrain sort of things like the bond angles in the protein and things like that, a lot, but not to impact the learning system.',\n",
       " \"So huge leaps, I would say, you know, three or four from, if you think from 2010 till now, huge evolutions, things like AlphaGo. And maybe there's a few more still needed.\",\n",
       " 'And so I think solving, I think to, you know, if we wanted to give it the credit of like a Nobel type of thing, then it would need to invent go and sort of invent that new conjecture out of the blue rather than being specified by the human scientists or the human creators.',\n",
       " \"And then one of the things we can't imagine today is, and one of the reasons I think people, we were so surprised by how well large models worked is that actually it's very hard for our human minds, our limited human minds to understand what it would be like to read the whole internet, right?\",\n",
       " 'So what that means is if you imagine where humanity will be in a few hundred years, let alone a million years, especially if we hopefully, you know, solve things like climate change and other things, and we continue to flourish and we build things like AI and we do space traveling and all of the stuff that humans have dreamed of forever, right?',\n",
       " \"And I think we've seen the same with AI systems, which is that maybe until very recently, it's always been easier to craft a specific solution to a problem like chess than it has been to build a general learning system that could potentially do many things.\"]"
      ]
     },
     "execution_count": 13,
     "metadata": {},
     "output_type": "execute_result"
    }
   ],
   "source": [
    "from summa.summarizer import summarize\n",
    "summary = summarize(text, ratio=0.01, split=True)\n",
    "summary"
   ]
  },
  {
   "cell_type": "code",
   "execution_count": 14,
   "id": "ed7300a3",
   "metadata": {},
   "outputs": [
    {
     "data": {
      "text/plain": [
       "23448"
      ]
     },
     "execution_count": 14,
     "metadata": {},
     "output_type": "execute_result"
    }
   ],
   "source": [
    "len(text.split())"
   ]
  },
  {
   "cell_type": "code",
   "execution_count": 15,
   "id": "c95cf8da",
   "metadata": {},
   "outputs": [
    {
     "data": {
      "text/plain": [
       "12"
      ]
     },
     "execution_count": 15,
     "metadata": {},
     "output_type": "execute_result"
    }
   ],
   "source": [
    "len(summary)"
   ]
  },
  {
   "cell_type": "code",
   "execution_count": null,
   "id": "4ea44b9f",
   "metadata": {},
   "outputs": [],
   "source": [
    "'''xclass whisper_unit(object):\n",
    "    def __init__(self, start, end, text):\n",
    "        self.start = start\n",
    "        self.end = end\n",
    "        self.text = text\n",
    "        \n",
    "    def '''"
   ]
  },
  {
   "cell_type": "code",
   "execution_count": 16,
   "id": "9b3dac1a",
   "metadata": {},
   "outputs": [],
   "source": [
    "import time\n",
    "\n",
    "def isTime(input):\n",
    "    try:\n",
    "        time.strptime(input, '%H:%M:%S.%f') \n",
    "        return True\n",
    "    except ValueError:\n",
    "        return False\n",
    "    \n",
    "isTime(\"01:13.120\")\n",
    "\n",
    "def convert_time(ip):\n",
    "    if ip.count(':') == 1:\n",
    "        ip = \"00:\" + ip\n",
    "    return time.strptime(ip, '%H:%M:%S.%f')\n",
    "\n",
    "def convert_string(timeval):\n",
    "    return time.strftime('%H:%M:%S', timeval)"
   ]
  },
  {
   "cell_type": "code",
   "execution_count": 17,
   "id": "0bb0bd93",
   "metadata": {},
   "outputs": [],
   "source": [
    "transcripts = []\n",
    "for idx, line in enumerate(lines):\n",
    "    if \"-->\" in line:\n",
    "        timeval = line.strip()\n",
    "        textval = lines[idx+1:idx+2][0].strip()\n",
    "        #print(timeval, textval[0].strip())\n",
    "        \n",
    "        vals = timeval.split(\"-->\")\n",
    "        start = vals[0].strip()\n",
    "        end = vals[1].strip()\n",
    "        start_time = convert_time(start)\n",
    "        end_time = convert_time(end)\n",
    "        transcript = {\n",
    "            \"timewindow\": timeval,\n",
    "            \"text\" : textval,\n",
    "            \"start\": convert_string(start_time),\n",
    "            \"end\": convert_string(end_time)\n",
    "        }\n",
    "        transcripts.append(transcript)"
   ]
  },
  {
   "cell_type": "code",
   "execution_count": 18,
   "id": "625d0ec7",
   "metadata": {},
   "outputs": [
    {
     "data": {
      "text/plain": [
       "time.struct_time(tm_year=1900, tm_mon=1, tm_mday=1, tm_hour=0, tm_min=0, tm_sec=3, tm_wday=0, tm_yday=1, tm_isdst=-1)"
      ]
     },
     "execution_count": 18,
     "metadata": {},
     "output_type": "execute_result"
    }
   ],
   "source": [
    "time.strptime(\"00:03.480\", '%M:%S.%f') "
   ]
  },
  {
   "cell_type": "code",
   "execution_count": 20,
   "id": "437b651f",
   "metadata": {},
   "outputs": [
    {
     "data": {
      "text/plain": [
       "[{'timewindow': '00:00.000 --> 00:03.480',\n",
       "  'text': 'The following is a conversation with Demis Hassabis,',\n",
       "  'start': '00:00:00',\n",
       "  'end': '00:00:03'},\n",
       " {'timewindow': '00:03.480 --> 00:06.720',\n",
       "  'text': 'CEO and co founder of DeepMind,',\n",
       "  'start': '00:00:03',\n",
       "  'end': '00:00:06'},\n",
       " {'timewindow': '00:06.720 --> 00:08.600',\n",
       "  'text': 'a company that has published and built',\n",
       "  'start': '00:00:06',\n",
       "  'end': '00:00:08'},\n",
       " {'timewindow': '00:08.600 --> 00:12.200',\n",
       "  'text': 'some of the most incredible artificial intelligence systems',\n",
       "  'start': '00:00:08',\n",
       "  'end': '00:00:12'},\n",
       " {'timewindow': '00:12.200 --> 00:14.120',\n",
       "  'text': 'in the history of computing,',\n",
       "  'start': '00:00:12',\n",
       "  'end': '00:00:14'}]"
      ]
     },
     "execution_count": 20,
     "metadata": {},
     "output_type": "execute_result"
    }
   ],
   "source": [
    "transcripts[0:5]"
   ]
  },
  {
   "cell_type": "code",
   "execution_count": 21,
   "id": "4e6ba9a0",
   "metadata": {},
   "outputs": [],
   "source": [
    "summ_transcripts = []\n",
    "for summ in summary:\n",
    "    start_index = -1\n",
    "    end_index = -1\n",
    "    init_text = \" \".join(summ.split()[0:5])\n",
    "    end_text = \" \".join(summ.split())[-5:]\n",
    "    for index, item in enumerate(transcripts):\n",
    "        if init_text in item['text']:\n",
    "            start_index = index\n",
    "            break\n",
    "    if start_index > 0:\n",
    "        for index, item in enumerate(transcripts[start_index:start_index+20]):\n",
    "            if end_text in item['text']:\n",
    "                end_index = start_index + index\n",
    "                break\n",
    "    \n",
    "    if start_index > -1  and end_index > -1:\n",
    "        summ_transcript = {\n",
    "            \"summary_text\": summ,\n",
    "            \"start_index\": start_index,\n",
    "            \"end_index\" : end_index\n",
    "        }\n",
    "        summ_transcripts.append(summ_transcript)\n",
    "    else:\n",
    "        print(\"not found\")"
   ]
  },
  {
   "cell_type": "code",
   "execution_count": 22,
   "id": "a09c6427",
   "metadata": {},
   "outputs": [
    {
     "data": {
      "text/plain": [
       "[{'summary_text': \"And I still think something like the Turing test will, at the end of the day, be the thing that truly impresses other humans so that you can have a close friend who's an AI system.\",\n",
       "  'start_index': 143,\n",
       "  'end_index': 146},\n",
       " {'summary_text': \"I just, I think there'll be a kind of humor in the AI systems of the future looking back to this conversation and thinking about the Turing test and also thinking about by that time, they would know which year they were finally able to sort of cross the threshold of human level intelligence and think how funny it is that we humans were still confused about this whole problem that has been long ago been solved.\",\n",
       "  'start_index': 174,\n",
       "  'end_index': 182},\n",
       " {'summary_text': 'So whether it was graphics with people like John Carmack and Quake and those kinds of things or AI, I think actually all the action was going on in games.',\n",
       "  'start_index': 339,\n",
       "  'end_index': 341},\n",
       " {'summary_text': \"And I think that building AI, one of the reasons I wanna build AI, and I've always wanted to is, I think by building an intelligent artifact like AI, and then comparing it to the human mind, that will help us unlock the uniqueness and the true secrets of the mind that we've always wondered about since the dawn of history, like consciousness, dreaming, creativity, emotions, what are all these things, right?\",\n",
       "  'start_index': 824,\n",
       "  'end_index': 833},\n",
       " {'summary_text': \"And I think it's amazing that with our human minds, we're able to build things like computers and actually even, you know, think and investigate about these questions.\",\n",
       "  'start_index': 850,\n",
       "  'end_index': 853},\n",
       " {'summary_text': \"So it's been an amazing time actually in the last, you know, two, three years to see that come through because as we talked about earlier, you know, games is what we started on building things like AlphaGo and AlphaZero, but really the ultimate goal was to, not just to crack games, it was just to build, use them to bootstrap general learning systems we could then apply to real world challenges.\",\n",
       "  'start_index': 1059,\n",
       "  'end_index': 1068},\n",
       " {'summary_text': 'I think some of the big innovations were that kind of building in some hard coded constraints around physics and evolutionary biology to constrain sort of things like the bond angles in the protein and things like that, a lot, but not to impact the learning system.',\n",
       "  'start_index': 1078,\n",
       "  'end_index': 1083},\n",
       " {'summary_text': \"So huge leaps, I would say, you know, three or four from, if you think from 2010 till now, huge evolutions, things like AlphaGo. And maybe there's a few more still needed.\",\n",
       "  'start_index': 1298,\n",
       "  'end_index': 1301},\n",
       " {'summary_text': 'And so I think solving, I think to, you know, if we wanted to give it the credit of like a Nobel type of thing, then it would need to invent go and sort of invent that new conjecture out of the blue rather than being specified by the human scientists or the human creators.',\n",
       "  'start_index': 1623,\n",
       "  'end_index': 1629},\n",
       " {'summary_text': \"And then one of the things we can't imagine today is, and one of the reasons I think people, we were so surprised by how well large models worked is that actually it's very hard for our human minds, our limited human minds to understand what it would be like to read the whole internet, right?\",\n",
       "  'start_index': 1657,\n",
       "  'end_index': 1662},\n",
       " {'summary_text': 'So what that means is if you imagine where humanity will be in a few hundred years, let alone a million years, especially if we hopefully, you know, solve things like climate change and other things, and we continue to flourish and we build things like AI and we do space traveling and all of the stuff that humans have dreamed of forever, right?',\n",
       "  'start_index': 2134,\n",
       "  'end_index': 2140},\n",
       " {'summary_text': \"And I think we've seen the same with AI systems, which is that maybe until very recently, it's always been easier to craft a specific solution to a problem like chess than it has been to build a general learning system that could potentially do many things.\",\n",
       "  'start_index': 2375,\n",
       "  'end_index': 2380}]"
      ]
     },
     "execution_count": 22,
     "metadata": {},
     "output_type": "execute_result"
    }
   ],
   "source": [
    "summ_transcripts"
   ]
  },
  {
   "cell_type": "code",
   "execution_count": 1,
   "id": "00c9b6a5",
   "metadata": {},
   "outputs": [],
   "source": [
    "import time\n",
    "class KeyMoments(object):\n",
    "\n",
    "    def __init__(self, transcript=None):\n",
    "        self.wh_transcript = transcript\n",
    "        \n",
    "    def _convert_time(self, window_time):\n",
    "        if window_time.count(':') == 1:\n",
    "            window_time = \"00:\" + window_time\n",
    "        return time.strptime(window_time, '%H:%M:%S.%f')\n",
    "\n",
    "    def _convert_string(self, timeval):\n",
    "        return time.strftime('%H:%M:%S', timeval)\n",
    "    \n",
    "    def _convert_to_secs(self, timeval):\n",
    "        t = self._convert_time(timeval)\n",
    "    \n",
    "    def _process_transcript(self):\n",
    "        transcripts = []\n",
    "        for idx, line in enumerate(self.wh_transcript):\n",
    "            if \"-->\" in line:\n",
    "                time_window = line.strip()\n",
    "                window_text = self.wh_transcript[idx+1:idx+2][0].strip()\n",
    "\n",
    "                windows = time_window.split(\"-->\")\n",
    "                start = windows[0].strip()\n",
    "                end = windows[1].strip()\n",
    "                start_time = self._convert_time(start)\n",
    "                end_time = self._convert_time(end)\n",
    "                transcript = {\n",
    "                    \"time_window\": time_window,\n",
    "                    \"text\" : window_text,\n",
    "                    \"start_time\": self._convert_string(start_time),\n",
    "                    \"end_time\": self._convert_string(end_time)\n",
    "                }\n",
    "                transcripts.append(transcript)\n",
    "        return transcripts\n",
    "    \n",
    "    def _summarize(self, text):\n",
    "        from summa.summarizer import summarize\n",
    "        summary = summarize(text, ratio=0.01, split=True)\n",
    "        return summary\n",
    "    \n",
    "    def _process_summary(self, summary, transcripts):\n",
    "        summ_transcripts = []\n",
    "        for summ in summary:\n",
    "            start_index = -1\n",
    "            end_index = -1\n",
    "            init_text = \" \".join(summ.split()[0:5])\n",
    "            end_text = \" \".join(summ.split())[-5:]\n",
    "            for index, item in enumerate(transcripts):\n",
    "                if init_text in item['text']:\n",
    "                    start_index = index\n",
    "                    break\n",
    "            if start_index > 0:\n",
    "                for index, item in enumerate(transcripts[start_index:start_index+20]):\n",
    "                    if end_text in item['text']:\n",
    "                        end_index = start_index + index\n",
    "                        break\n",
    "\n",
    "            if start_index > -1  and end_index > -1:\n",
    "                summ_transcript = {\n",
    "                    \"key_moment\": summ,\n",
    "                    \"start_index\": start_index,\n",
    "                    \"end_index\" : end_index,\n",
    "                    \"start_time\": transcripts[start_index]['start_time'],\n",
    "                    \"end_time\": transcripts[end_index]['end_time'],\n",
    "                }\n",
    "                summ_transcripts.append(summ_transcript)\n",
    "            else:\n",
    "                print(\"not found\")\n",
    "        return summ_transcripts\n",
    "    \n",
    "    def get_key_moments(self, transcripts):\n",
    "        if transcripts:\n",
    "            self.wh_transcript = transcripts\n",
    "            \n",
    "        processed = self._process_transcript()\n",
    "        \n",
    "        all_text = [item['text'] for item in processed]\n",
    "        all_text = \" \".join(all_text)\n",
    "        summaries = self._summarize(all_text)\n",
    "        keymoments = self._process_summary(summaries, processed)\n",
    "        \n",
    "        return keymoments\n",
    "        "
   ]
  },
  {
   "cell_type": "code",
   "execution_count": null,
   "id": "83cdad77",
   "metadata": {},
   "outputs": [],
   "source": [
    "moments = KeyMoments()\n",
    "moments.get_key_moments(lines)"
   ]
  },
  {
   "cell_type": "markdown",
   "id": "ed953cae",
   "metadata": {},
   "source": [
    "# Create User Inferface"
   ]
  },
  {
   "cell_type": "code",
   "execution_count": 2,
   "id": "e68c6bf7",
   "metadata": {},
   "outputs": [],
   "source": [
    "import gradio as gr\n",
    "\n",
    "def create_key_moments(url, file):\n",
    "    key_moments = []\n",
    "    if file:\n",
    "        print(file.name)\n",
    "        with open(file.name, \"r\") as f:\n",
    "            text = f.readlines()\n",
    "            \n",
    "        print(text[0:5])\n",
    "        \n",
    "        moments = KeyMoments()\n",
    "        key_moments = moments.get_key_moments(text)\n",
    "        \n",
    "    return key_moments[0:3]\n",
    "    "
   ]
  },
  {
   "cell_type": "code",
   "execution_count": 3,
   "id": "3c90579e",
   "metadata": {},
   "outputs": [],
   "source": [
    "demo = gr.Interface(fn=create_key_moments, description=\"Key Moments Demo\", inputs=[\n",
    "        gr.Text(label=\"URL (YouTube, etc.)\"),\n",
    "        gr.File(type=\"file\", label=\"Upload vtt file\"), \n",
    "    ], outputs=[\n",
    "        gr.Text(label=\"Segments\")\n",
    "    ])"
   ]
  },
  {
   "cell_type": "code",
   "execution_count": 4,
   "id": "21fad426",
   "metadata": {},
   "outputs": [
    {
     "name": "stdout",
     "output_type": "stream",
     "text": [
      "Running on local URL:  http://127.0.0.1:7860\n",
      "\n",
      "To create a public link, set `share=True` in `launch()`.\n"
     ]
    },
    {
     "data": {
      "text/html": [
       "<div><iframe src=\"http://127.0.0.1:7860/\" width=\"100%\" height=\"500\" allow=\"autoplay; camera; microphone; clipboard-read; clipboard-write;\" frameborder=\"0\" allowfullscreen></iframe></div>"
      ],
      "text/plain": [
       "<IPython.core.display.HTML object>"
      ]
     },
     "metadata": {},
     "output_type": "display_data"
    },
    {
     "name": "stdout",
     "output_type": "stream",
     "text": [
      "/var/folders/vk/c62whj215n12n7wh_5z7d4w00000gn/T/demis_hassabisaep6tcwt.vtt\n",
      "['WEBVTT\\n', '\\n', '00:00.000 --> 00:03.480\\n', ' The following is a conversation with Demis Hassabis,\\n', '\\n']\n",
      "/var/folders/vk/c62whj215n12n7wh_5z7d4w00000gn/T/demis_hassabisukc7wc2v.vtt\n",
      "['WEBVTT\\n', '\\n', '00:00.000 --> 00:03.480\\n', ' The following is a conversation with Demis Hassabis,\\n', '\\n']\n",
      "Keyboard interruption in main thread... closing server.\n"
     ]
    },
    {
     "data": {
      "text/plain": []
     },
     "execution_count": 4,
     "metadata": {},
     "output_type": "execute_result"
    }
   ],
   "source": [
    "demo.launch(debug=True)"
   ]
  },
  {
   "cell_type": "code",
   "execution_count": null,
   "id": "b1244a47",
   "metadata": {},
   "outputs": [],
   "source": [
    "demo.close()"
   ]
  },
  {
   "cell_type": "code",
   "execution_count": null,
   "id": "d054f71f",
   "metadata": {},
   "outputs": [],
   "source": []
  }
 ],
 "metadata": {
  "kernelspec": {
   "display_name": "Python 3 (ipykernel)",
   "language": "python",
   "name": "python3"
  },
  "language_info": {
   "codemirror_mode": {
    "name": "ipython",
    "version": 3
   },
   "file_extension": ".py",
   "mimetype": "text/x-python",
   "name": "python",
   "nbconvert_exporter": "python",
   "pygments_lexer": "ipython3",
   "version": "3.8.9"
  }
 },
 "nbformat": 4,
 "nbformat_minor": 5
}
